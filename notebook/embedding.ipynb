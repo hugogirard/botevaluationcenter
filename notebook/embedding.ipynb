{
 "cells": [
  {
   "cell_type": "code",
   "execution_count": null,
   "metadata": {},
   "outputs": [],
   "source": [
    "%pip install openai==1.40.6 --quiet\n",
    "%pip install chromadb==0.5.5 --quiet"
   ]
  },
  {
   "cell_type": "markdown",
   "metadata": {},
   "source": [
    "Add all food recipes in an array before embedding"
   ]
  },
  {
   "cell_type": "code",
   "execution_count": 18,
   "metadata": {},
   "outputs": [],
   "source": [
    "food_recipes = [\n",
    "    \"Poutine is a recipe from Quebec made of french fries, cheese curds, and gravy.\",\n",
    "    \"Butter Tart is a traditional dessert from Ontario made of butter, sugar, syrup, and eggs.\",\n",
    "    \"A traditional meat pie originating from Quebec, typically filled with ground pork, beef, or veal.\"\n",
    "]"
   ]
  },
  {
   "cell_type": "markdown",
   "metadata": {},
   "source": [
    "Client the chromadb client"
   ]
  },
  {
   "cell_type": "code",
   "execution_count": 19,
   "metadata": {},
   "outputs": [
    {
     "name": "stdout",
     "output_type": "stream",
     "text": [
      "['Poutine is a recipe from Quebec made of french fries, cheese curds, and gravy.', 'Butter Tart is a traditional dessert from Ontario made of butter, sugar, syrup, and eggs.', 'A traditional meat pie originating from Quebec, typically filled with ground pork, beef, or veal.']\n"
     ]
    }
   ],
   "source": [
    "import chromadb\n",
    "chroma_client = chromadb.Client()\n",
    "\n",
    "chroma_client.delete_collection(\"recipes\")\n",
    "collection = chroma_client.create_collection(name=\"recipes\")\n",
    "\n",
    "print(food_recipes)\n",
    "\n",
    "collection.add(\n",
    "    documents=food_recipes,\n",
    "    ids=[\"id1\", \"id2\", \"id3\"]\n",
    ")\n"
   ]
  },
  {
   "cell_type": "code",
   "execution_count": 20,
   "metadata": {},
   "outputs": [
    {
     "name": "stdout",
     "output_type": "stream",
     "text": [
      "['A traditional meat pie originating from Quebec, typically filled with ground pork, beef, or veal.', 'Poutine is a recipe from Quebec made of french fries, cheese curds, and gravy.']\n"
     ]
    }
   ],
   "source": [
    "# Query the database\n",
    "\n",
    "results = collection.query(\n",
    "    query_texts=[\"Give me a good food recipe from Quebec\"], # Chroma will embed this for you\n",
    "    n_results=2 # how many results to return,    \n",
    ")\n",
    "\n",
    "filtered_documents = [\n",
    "    doc for doc, dist in zip(results['documents'][0], results['distances'][0]) if dist < 0.9\n",
    "]\n",
    "\n",
    "print(filtered_documents)\n"
   ]
  }
 ],
 "metadata": {
  "kernelspec": {
   "display_name": ".venv",
   "language": "python",
   "name": "python3"
  },
  "language_info": {
   "codemirror_mode": {
    "name": "ipython",
    "version": 3
   },
   "file_extension": ".py",
   "mimetype": "text/x-python",
   "name": "python",
   "nbconvert_exporter": "python",
   "pygments_lexer": "ipython3",
   "version": "3.10.12"
  }
 },
 "nbformat": 4,
 "nbformat_minor": 2
}
