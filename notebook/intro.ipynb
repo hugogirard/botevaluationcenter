{
 "cells": [
  {
   "cell_type": "code",
   "execution_count": null,
   "metadata": {
    "dotnet_interactive": {
     "language": "csharp"
    },
    "polyglot_notebook": {
     "kernelName": "csharp"
    },
    "vscode": {
     "languageId": "polyglot-notebook"
    }
   },
   "outputs": [],
   "source": [
    "#r \"nuget: Microsoft.SemanticKernel, 1.17.1\""
   ]
  },
  {
   "cell_type": "markdown",
   "metadata": {},
   "source": [
    "Helper method to read .env file"
   ]
  },
  {
   "cell_type": "code",
   "execution_count": null,
   "metadata": {
    "dotnet_interactive": {
     "language": "csharp"
    },
    "polyglot_notebook": {
     "kernelName": "csharp"
    },
    "vscode": {
     "languageId": "polyglot-notebook"
    }
   },
   "outputs": [],
   "source": [
    "using System.IO;\n",
    "\n",
    "void LoadEnv()\n",
    "{\n",
    "    string filename = \".env\";\n",
    "\n",
    "    if (!File.Exists(filename))\n",
    "        return;\n",
    "\n",
    "    foreach (var line in File.ReadAllLines(filename))\n",
    "    {\n",
    "        var parts = line.Split(\n",
    "            '=',\n",
    "            StringSplitOptions.RemoveEmptyEntries);\n",
    "\n",
    "        if (parts.Length != 2)\n",
    "            continue;\n",
    "\n",
    "        Environment.SetEnvironmentVariable(parts[0], parts[1]);\n",
    "    }\n",
    "}"
   ]
  },
  {
   "cell_type": "markdown",
   "metadata": {},
   "source": [
    "Now we create the kernel"
   ]
  },
  {
   "cell_type": "code",
   "execution_count": null,
   "metadata": {
    "dotnet_interactive": {
     "language": "csharp"
    },
    "polyglot_notebook": {
     "kernelName": "csharp"
    },
    "vscode": {
     "languageId": "polyglot-notebook"
    }
   },
   "outputs": [],
   "source": [
    "// Import packages\n",
    "using Microsoft.SemanticKernel;\n",
    "using Microsoft.SemanticKernel.ChatCompletion;\n",
    "using Microsoft.SemanticKernel.Connectors.OpenAI;\n",
    "\n",
    "LoadEnv();\n",
    "\n",
    "var deployment = Environment.GetEnvironmentVariable(\"AZURE_OPENAI_CHAT_DEPLOYMENT_MODEL\");\n",
    "var apiKey = Environment.GetEnvironmentVariable(\"AZURE_OPENAI_KEY\");\n",
    "var apiEndpoint = Environment.GetEnvironmentVariable(\"AZURE_OPENAI_ENDPOINT\");\n",
    "\n",
    "var kernel = Kernel.CreateBuilder()\n",
    "                   .AddAzureOpenAIChatCompletion(deployment,apiEndpoint,apiKey)                   \n",
    "                   .Build();\n",
    "\n",
    "var chat = kernel.GetRequiredService<IChatCompletionService>();\n"
   ]
  },
  {
   "cell_type": "markdown",
   "metadata": {},
   "source": [
    "Simple question to OpenAI"
   ]
  },
  {
   "cell_type": "code",
   "execution_count": null,
   "metadata": {
    "dotnet_interactive": {
     "language": "csharp"
    },
    "polyglot_notebook": {
     "kernelName": "csharp"
    },
    "vscode": {
     "languageId": "polyglot-notebook"
    }
   },
   "outputs": [],
   "source": [
    "var result = await chat.GetChatMessageContentAsync(\"Hello, my name if John\");\n",
    "\n",
    "Console.WriteLine(result);"
   ]
  },
  {
   "cell_type": "markdown",
   "metadata": {},
   "source": [
    "Now let's create a simple plugin in C#"
   ]
  },
  {
   "cell_type": "code",
   "execution_count": null,
   "metadata": {
    "dotnet_interactive": {
     "language": "csharp"
    },
    "polyglot_notebook": {
     "kernelName": "csharp"
    },
    "vscode": {
     "languageId": "polyglot-notebook"
    }
   },
   "outputs": [],
   "source": [
    "using System.Text.Json.Serialization;\n",
    "using System.ComponentModel;\n",
    "\n",
    "// First let's create the model\n",
    "\n",
    "public class LightModel\n",
    "{\n",
    "   [JsonPropertyName(\"id\")]\n",
    "   public int Id { get; set; }\n",
    "\n",
    "   [JsonPropertyName(\"name\")]\n",
    "   public string Name { get; set; }\n",
    "\n",
    "   [JsonPropertyName(\"is_on\")]\n",
    "   public bool? IsOn { get; set; }\n",
    "}\n",
    "\n",
    "// Now the plugin of the light\n",
    "\n",
    "public class LightsPlugin\n",
    "{\n",
    "   // Mock data for the lights\n",
    "   private readonly List<LightModel> lights = new()\n",
    "   {\n",
    "      new LightModel { Id = 1, Name = \"Table Lamp\", IsOn = false },\n",
    "      new LightModel { Id = 2, Name = \"Porch light\", IsOn = false },\n",
    "      new LightModel { Id = 3, Name = \"Chandelier\", IsOn = true }\n",
    "   };\n",
    "\n",
    "   [KernelFunction(\"get_lights\")]\n",
    "   [Description(\"Gets a list of lights and their current state\")]\n",
    "   [return: Description(\"An array of lights\")]\n",
    "   public async Task<List<LightModel>> GetLightsAsync()\n",
    "   {\n",
    "      return lights;\n",
    "   }\n",
    "\n",
    "   [KernelFunction(\"change_state\")]\n",
    "   [Description(\"Changes the state of the light\")]\n",
    "   [return: Description(\"The updated state of the light; will return null if the light does not exist\")]\n",
    "   public async Task<LightModel?> ChangeStateAsync(int id, bool isOn)\n",
    "   {\n",
    "      var light = lights.FirstOrDefault(light => light.Id == id);\n",
    "\n",
    "      if (light == null)\n",
    "      {\n",
    "         return null;\n",
    "      }\n",
    "\n",
    "      // Update the light with the new state\n",
    "      light.IsOn = isOn;\n",
    "\n",
    "      return light;\n",
    "   }\n",
    "}"
   ]
  },
  {
   "cell_type": "markdown",
   "metadata": {},
   "source": [
    "Let's add the plugin to the kernel"
   ]
  },
  {
   "cell_type": "code",
   "execution_count": 4,
   "metadata": {
    "dotnet_interactive": {
     "language": "csharp"
    },
    "polyglot_notebook": {
     "kernelName": "csharp"
    },
    "vscode": {
     "languageId": "polyglot-notebook"
    }
   },
   "outputs": [],
   "source": [
    "// Add the plugin to the kernel\n",
    "\n",
    "kernel.Plugins.AddFromType<LightsPlugin>(\"Lights\");\n",
    "\n",
    "// Enable planning\n",
    "OpenAIPromptExecutionSettings openAIPromptExecutionSettings = new() \n",
    "{\n",
    "    ToolCallBehavior = ToolCallBehavior.AutoInvokeKernelFunctions\n",
    "};"
   ]
  },
  {
   "cell_type": "markdown",
   "metadata": {},
   "source": [
    "All good chat need a chat history"
   ]
  },
  {
   "cell_type": "code",
   "execution_count": 2,
   "metadata": {
    "dotnet_interactive": {
     "language": "csharp"
    },
    "polyglot_notebook": {
     "kernelName": "csharp"
    },
    "vscode": {
     "languageId": "polyglot-notebook"
    }
   },
   "outputs": [],
   "source": [
    "// Create a history store the conversation\n",
    "var history = new ChatHistory();"
   ]
  },
  {
   "cell_type": "markdown",
   "metadata": {},
   "source": [
    "Now let's get some light status and pass it to OpenAI for the answer using the power of SK"
   ]
  },
  {
   "cell_type": "code",
   "execution_count": null,
   "metadata": {
    "dotnet_interactive": {
     "language": "csharp"
    },
    "polyglot_notebook": {
     "kernelName": "csharp"
    },
    "vscode": {
     "languageId": "polyglot-notebook"
    }
   },
   "outputs": [],
   "source": [
    "history.AddUserMessage(\"Hello, what lights are on?\");\n",
    "\n",
    "var response = await chat.GetChatMessageContentAsync(history,\n",
    "                                                     executionSettings: openAIPromptExecutionSettings,\n",
    "                                                     kernel: kernel);"
   ]
  }
 ],
 "metadata": {
  "kernelspec": {
   "display_name": ".NET (C#)",
   "language": "C#",
   "name": ".net-csharp"
  },
  "language_info": {
   "name": "python"
  },
  "polyglot_notebook": {
   "kernelInfo": {
    "defaultKernelName": "csharp",
    "items": [
     {
      "aliases": [],
      "name": "csharp"
     }
    ]
   }
  }
 },
 "nbformat": 4,
 "nbformat_minor": 2
}
