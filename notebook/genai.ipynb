{
 "cells": [
  {
   "cell_type": "markdown",
   "metadata": {},
   "source": [
    "This notebook use native function of SK to call Language Service, if not found we generate using RAG"
   ]
  },
  {
   "cell_type": "code",
   "execution_count": 1,
   "metadata": {
    "dotnet_interactive": {
     "language": "csharp"
    },
    "polyglot_notebook": {
     "kernelName": "csharp"
    },
    "vscode": {
     "languageId": "polyglot-notebook"
    }
   },
   "outputs": [
    {
     "data": {
      "text/html": [
       "<div><div></div><div></div><div><strong>Installed Packages</strong><ul><li><span>Azure.AI.Language.QuestionAnswering, 1.1.0</span></li><li><span>Azure.Core, 1.39.0</span></li><li><span>Microsoft.SemanticKernel, 1.17.1</span></li></ul></div></div>"
      ]
     },
     "metadata": {},
     "output_type": "display_data"
    }
   ],
   "source": [
    "#r \"nuget: Azure.Core, 1.39.0\"\n",
    "#r \"nuget: Azure.AI.Language.QuestionAnswering, 1.1.0\"\n",
    "#r \"nuget: Microsoft.SemanticKernel, 1.17.1\""
   ]
  },
  {
   "cell_type": "markdown",
   "metadata": {},
   "source": [
    "Load all settings from env file"
   ]
  },
  {
   "cell_type": "code",
   "execution_count": 2,
   "metadata": {
    "dotnet_interactive": {
     "language": "csharp"
    },
    "polyglot_notebook": {
     "kernelName": "csharp"
    },
    "vscode": {
     "languageId": "polyglot-notebook"
    }
   },
   "outputs": [],
   "source": [
    "using Microsoft.SemanticKernel;\n",
    "using Microsoft.SemanticKernel.ChatCompletion;\n",
    "using Microsoft.SemanticKernel.Connectors.OpenAI;\n",
    "using System.IO;\n",
    "\n",
    "void LoadEnv()\n",
    "{\n",
    "    string filename = \".env\";\n",
    "\n",
    "    if (!File.Exists(filename))\n",
    "        return;\n",
    "\n",
    "    foreach (var line in File.ReadAllLines(filename))\n",
    "    {\n",
    "        var parts = line.Split(\n",
    "            '=',\n",
    "            StringSplitOptions.RemoveEmptyEntries);\n",
    "\n",
    "        if (parts.Length != 2)\n",
    "            continue;\n",
    "\n",
    "        Environment.SetEnvironmentVariable(parts[0], parts[1]);\n",
    "    }\n",
    "}\n",
    "\n",
    "LoadEnv();"
   ]
  },
  {
   "cell_type": "markdown",
   "metadata": {},
   "source": [
    "Create client for Language Service"
   ]
  },
  {
   "cell_type": "code",
   "execution_count": 23,
   "metadata": {
    "dotnet_interactive": {
     "language": "csharp"
    },
    "polyglot_notebook": {
     "kernelName": "csharp"
    },
    "vscode": {
     "languageId": "polyglot-notebook"
    }
   },
   "outputs": [],
   "source": [
    "using Azure;\n",
    "using Azure.AI.Language.QuestionAnswering;\n",
    "\n",
    "Uri endpoint = new Uri(Environment.GetEnvironmentVariable(\"LANGUAGE_SERVICE_ENDPOINT\"));\n",
    "AzureKeyCredential credential = new AzureKeyCredential(Environment.GetEnvironmentVariable(\"LANGUAGE_SERVICE_KEY\"));\n",
    "string projectName = Environment.GetEnvironmentVariable(\"PROJECT_NAME\");\n",
    "string deploymentName = \"production\";\n",
    "\n",
    "QuestionAnsweringClient client = new (endpoint, credential);\n",
    "QuestionAnsweringProject project = new (projectName, deploymentName);"
   ]
  },
  {
   "cell_type": "markdown",
   "metadata": {},
   "source": [
    "Now let test if this work"
   ]
  },
  {
   "cell_type": "code",
   "execution_count": null,
   "metadata": {
    "dotnet_interactive": {
     "language": "csharp"
    },
    "polyglot_notebook": {
     "kernelName": "csharp"
    },
    "vscode": {
     "languageId": "polyglot-notebook"
    }
   },
   "outputs": [],
   "source": [
    "string question = \"What is the capital of Canada ?\";\n",
    "\n",
    "Response<AnswersResult> response = await client.GetAnswersAsync(question,project);\n",
    "\n",
    "foreach (KnowledgeBaseAnswer answer in response.Value.Answers)\n",
    "{\n",
    "    Console.WriteLine($\"Q:{question}\");\n",
    "    Console.WriteLine($\"A:{answer.Answer}\");\n",
    "}"
   ]
  },
  {
   "cell_type": "markdown",
   "metadata": {},
   "source": [
    "Now let's create our SK native function"
   ]
  },
  {
   "cell_type": "code",
   "execution_count": 3,
   "metadata": {
    "dotnet_interactive": {
     "language": "csharp"
    },
    "polyglot_notebook": {
     "kernelName": "csharp"
    },
    "vscode": {
     "languageId": "polyglot-notebook"
    }
   },
   "outputs": [],
   "source": [
    "using System.Text.Json.Serialization;\n",
    "using System.ComponentModel;\n",
    "using Azure;\n",
    "using Azure.AI.Language.QuestionAnswering;\n",
    "\n",
    "public class KBAnswer\n",
    "{\n",
    "    [JsonPropertyName(\"answers\")]\n",
    "    public List<string> Answers { get; set; }\n",
    "\n",
    "    public KBAnswer()\n",
    "    {\n",
    "        Answers = new List<string>();\n",
    "    }\n",
    "}\n",
    "\n",
    "public class KBPlugin\n",
    "{\n",
    "   QuestionAnsweringClient _client;\n",
    "   QuestionAnsweringProject _project;\n",
    "\n",
    "   public KBPlugin()\n",
    "   {\n",
    "        // This is only for test purposes in production you use dependency injection\n",
    "        Uri endpoint = new Uri(Environment.GetEnvironmentVariable(\"LANGUAGE_SERVICE_ENDPOINT\"));\n",
    "        AzureKeyCredential credential = new AzureKeyCredential(Environment.GetEnvironmentVariable(\"LANGUAGE_SERVICE_KEY\"));\n",
    "        string projectName = Environment.GetEnvironmentVariable(\"PROJECT_NAME\");\n",
    "        string deploymentName = \"production\";\n",
    "\n",
    "        _client = new (endpoint, credential);\n",
    "        _project = new (projectName, deploymentName);\n",
    "   }\n",
    "\n",
    "   [KernelFunction(\"get_answer_kb\")]\n",
    "   [Description(\"Get an answer from the KB\")]\n",
    "   [return: Description(\"All answers found in the KB\")]\n",
    "   public async Task<KBAnswer> GetAnswerKB(string question) \n",
    "   {\n",
    "        Response<AnswersResult> response = await _client.GetAnswersAsync(question,_project);\n",
    "\n",
    "        var kb = new KBAnswer();\n",
    "\n",
    "        foreach (KnowledgeBaseAnswer answer in response.Value.Answers)\n",
    "        {\n",
    "            kb.Answers.Add(answer.Answer);            \n",
    "        }\n",
    "\n",
    "        return kb;\n",
    "   }\n",
    "}"
   ]
  },
  {
   "cell_type": "markdown",
   "metadata": {},
   "source": [
    "Now let's build the kernel"
   ]
  },
  {
   "cell_type": "code",
   "execution_count": 4,
   "metadata": {
    "dotnet_interactive": {
     "language": "csharp"
    },
    "polyglot_notebook": {
     "kernelName": "csharp"
    },
    "vscode": {
     "languageId": "polyglot-notebook"
    }
   },
   "outputs": [],
   "source": [
    "var deployment = Environment.GetEnvironmentVariable(\"AZURE_OPENAI_CHAT_DEPLOYMENT_MODEL\");\n",
    "var apiKey = Environment.GetEnvironmentVariable(\"AZURE_OPENAI_KEY\");\n",
    "var apiEndpoint = Environment.GetEnvironmentVariable(\"AZURE_OPENAI_ENDPOINT\");\n",
    "\n",
    "var kernel = Kernel.CreateBuilder()\n",
    "                   .AddAzureOpenAIChatCompletion(deployment,apiEndpoint,apiKey)                   \n",
    "                   .Build();\n",
    "\n",
    "var chat = kernel.GetRequiredService<IChatCompletionService>();\n",
    "\n",
    "// Add the plugin to the kernel\n",
    "\n",
    "kernel.Plugins.AddFromType<KBPlugin>(\"KB\");\n",
    "\n",
    "// Enable planning\n",
    "OpenAIPromptExecutionSettings openAIPromptExecutionSettings = new() \n",
    "{\n",
    "    ToolCallBehavior = ToolCallBehavior.AutoInvokeKernelFunctions\n",
    "};"
   ]
  },
  {
   "cell_type": "markdown",
   "metadata": {},
   "source": [
    "Now let's test if this work"
   ]
  },
  {
   "cell_type": "code",
   "execution_count": 5,
   "metadata": {
    "dotnet_interactive": {
     "language": "csharp"
    },
    "polyglot_notebook": {
     "kernelName": "csharp"
    },
    "vscode": {
     "languageId": "polyglot-notebook"
    }
   },
   "outputs": [
    {
     "name": "stdout",
     "output_type": "stream",
     "text": [
      "The capital of Canada is Ottawa.\r\n"
     ]
    }
   ],
   "source": [
    "var history = new ChatHistory();\n",
    "\n",
    "history.AddUserMessage(\"What is the capital of Canada?\");\n",
    "\n",
    "var response = await chat.GetChatMessageContentAsync(history,\n",
    "                                                     executionSettings: openAIPromptExecutionSettings,\n",
    "                                                     kernel: kernel);\n",
    "\n",
    "Console.WriteLine(response);"
   ]
  },
  {
   "cell_type": "markdown",
   "metadata": {},
   "source": [
    "Now let create another SK native function that will return answer from dishes in Canada (this is not present in the KB)"
   ]
  },
  {
   "cell_type": "code",
   "execution_count": 6,
   "metadata": {
    "dotnet_interactive": {
     "language": "csharp"
    },
    "polyglot_notebook": {
     "kernelName": "csharp"
    },
    "vscode": {
     "languageId": "polyglot-notebook"
    }
   },
   "outputs": [],
   "source": [
    "using System.Text.Json.Serialization;\n",
    "using System.ComponentModel;\n",
    "using Azure;\n",
    "using Azure.AI.Language.QuestionAnswering;\n",
    "using System.Text.RegularExpressions;\n",
    "\n",
    "public class Dish\n",
    "{\n",
    "    [JsonPropertyName(\"name\")]\n",
    "    public string Name { get; set; }\n",
    "\n",
    "    [JsonPropertyName(\"description\")]\n",
    "    public string Description { get; set; }\n",
    "\n",
    "    [JsonPropertyName(\"province\")]\n",
    "    public string Province { get; set; }\n",
    "}\n",
    "\n",
    "public class DishPlugin\n",
    "{\n",
    "   List<Dish> _dishes;\n",
    "\n",
    "   public DishPlugin()\n",
    "   {\n",
    "        _dishes = new List<Dish>()\n",
    "        {\n",
    "            new Dish { Name = \"Poutine\", Description = \"A popular Canadian dish made of french fries, cheese curds, and gravy.\", Province = \"Quebec\" },\n",
    "            new Dish { Name = \"Butter Tart\", Description = \"A sweet pastry filled with a gooey buttery filling, often made with maple syrup.\", Province = \"Ontario\" },\n",
    "            new Dish { Name = \"Nanaimo Bar\", Description = \"A no-bake dessert bar made of a chocolate coconut crumb base, custard filling, and chocolate ganache topping.\", Province = \"British Columbia\" },\n",
    "            new Dish { Name = \"BeaverTails\", Description = \"A fried dough pastry stretched to resemble a beaver's tail, often topped with various sweet toppings.\", Province = \"Ontario\" },\n",
    "            new Dish { Name = \"Tourtière\", Description = \"A traditional meat pie originating from Quebec, typically filled with ground pork, beef, or veal.\", Province = \"Quebec\" },\n",
    "            new Dish { Name = \"Too Many Bones\", Description = \"Bog are excellent in too many bones, this is popular in quebec made from Bog\", Province = \"Quebec\" }\n",
    "        };\n",
    "   }\n",
    "\n",
    "   [KernelFunction(\"get_popular_dishes\")]\n",
    "   [Description(\"Get popular dished from Canada\")]\n",
    "   [return: Description(\"Popular dishes from Canada based by province\")]\n",
    "   public async Task<List<Dish>> GetDishes(string question) \n",
    "   {\n",
    "        string province = ExtractProvince(question);\n",
    "        var filteredDishes = _dishes.Where(d => d.Province.Equals(province, StringComparison.OrdinalIgnoreCase)).ToList();\n",
    "\n",
    "        return await Task.FromResult(filteredDishes);\n",
    "   }\n",
    "\n",
    "    private string ExtractProvince(string question)\n",
    "    {\n",
    "        var match = Regex.Match(question, @\"\\bin\\s(\\w+)\\b\", RegexOptions.IgnoreCase);\n",
    "        return match.Success ? match.Groups[1].Value : string.Empty;\n",
    "    }\n",
    "}"
   ]
  },
  {
   "cell_type": "markdown",
   "metadata": {},
   "source": [
    "Add the new plugin to the kernel"
   ]
  },
  {
   "cell_type": "code",
   "execution_count": 7,
   "metadata": {
    "dotnet_interactive": {
     "language": "csharp"
    },
    "polyglot_notebook": {
     "kernelName": "csharp"
    },
    "vscode": {
     "languageId": "polyglot-notebook"
    }
   },
   "outputs": [],
   "source": [
    "kernel.Plugins.AddFromType<DishPlugin>(\"Dish\");"
   ]
  },
  {
   "cell_type": "markdown",
   "metadata": {},
   "source": [
    "Ask popular dish from Quebec"
   ]
  },
  {
   "cell_type": "code",
   "execution_count": 8,
   "metadata": {
    "dotnet_interactive": {
     "language": "csharp"
    },
    "polyglot_notebook": {
     "kernelName": "csharp"
    },
    "vscode": {
     "languageId": "polyglot-notebook"
    }
   },
   "outputs": [
    {
     "name": "stdout",
     "output_type": "stream",
     "text": [
      "Some popular dishes in Quebec are:\n",
      "\n",
      "1. Poutine: A popular Canadian dish made of french fries, cheese curds, and gravy.\n",
      "2. Tourtière: A traditional meat pie originating from Quebec, typically filled with ground pork, beef, or veal.\n",
      "3. Too Many Bones: This is a unique dish popular in Quebec, made from Bog.\n",
      "\n",
      "These are just a few examples, and there are many more delicious dishes to explore in Quebec.\r\n"
     ]
    }
   ],
   "source": [
    "var history = new ChatHistory();\n",
    "\n",
    "history.AddUserMessage(\"What is popular dishes in Quebec?\");\n",
    "\n",
    "var response = await chat.GetChatMessageContentAsync(history,\n",
    "                                                     executionSettings: openAIPromptExecutionSettings,\n",
    "                                                     kernel: kernel);\n",
    "\n",
    "Console.WriteLine(response);"
   ]
  },
  {
   "cell_type": "markdown",
   "metadata": {},
   "source": [
    "Now let's ask from Mexico, since we didn't limit the LLM to our context only it should find an answer"
   ]
  },
  {
   "cell_type": "code",
   "execution_count": 9,
   "metadata": {
    "vscode": {
     "languageId": "polyglot-notebook"
    }
   },
   "outputs": [
    {
     "name": "stdout",
     "output_type": "stream",
     "text": [
      "I'm sorry, but I couldn't find any specific information about popular dishes in Mexico. However, some well-known Mexican dishes include tacos, enchiladas, tamales, guacamole, and chiles rellenos. These are just a few examples, and there are many more delicious dishes in Mexican cuisine.\r\n"
     ]
    }
   ],
   "source": [
    "var history = new ChatHistory();\n",
    "\n",
    "history.AddUserMessage(\"What is popular dishes in Mexico?\");\n",
    "\n",
    "var response = await chat.GetChatMessageContentAsync(history,\n",
    "                                                     executionSettings: openAIPromptExecutionSettings,\n",
    "                                                     kernel: kernel);\n",
    "\n",
    "Console.WriteLine(response);"
   ]
  },
  {
   "cell_type": "markdown",
   "metadata": {},
   "source": [
    "Now let tell them if not found in native function do nothing"
   ]
  },
  {
   "cell_type": "code",
   "execution_count": 10,
   "metadata": {
    "vscode": {
     "languageId": "polyglot-notebook"
    }
   },
   "outputs": [
    {
     "name": "stdout",
     "output_type": "stream",
     "text": [
      "I'm sorry, but I don't have the information on popular dishes in Mexico.\r\n"
     ]
    }
   ],
   "source": [
    "var history = new ChatHistory();\n",
    "\n",
    "history.AddAssistantMessage(\"If you cannot find the answer from your native function reply I don't have the information, sorry\");\n",
    "history.AddUserMessage(\"What is popular dishes in Mexico?\");\n",
    "\n",
    "var response = await chat.GetChatMessageContentAsync(history,\n",
    "                                                     executionSettings: openAIPromptExecutionSettings,\n",
    "                                                     kernel: kernel);\n",
    "\n",
    "Console.WriteLine(response);"
   ]
  }
 ],
 "metadata": {
  "kernelspec": {
   "display_name": ".NET (C#)",
   "language": "C#",
   "name": ".net-csharp"
  },
  "language_info": {
   "name": "python"
  },
  "polyglot_notebook": {
   "kernelInfo": {
    "defaultKernelName": "csharp",
    "items": [
     {
      "aliases": [],
      "name": "csharp"
     }
    ]
   }
  }
 },
 "nbformat": 4,
 "nbformat_minor": 2
}
