{
 "cells": [
  {
   "cell_type": "code",
   "execution_count": 1,
   "metadata": {
    "dotnet_interactive": {
     "language": "csharp"
    },
    "polyglot_notebook": {
     "kernelName": "csharp"
    },
    "vscode": {
     "languageId": "polyglot-notebook"
    }
   },
   "outputs": [
    {
     "data": {
      "text/html": [
       "<div><div></div><div></div><div><strong>Installed Packages</strong><ul><li><span>ClosedXML, 0.95.4</span></li><li><span>System.Data.Common, 4.3.0</span></li></ul></div></div>"
      ]
     },
     "metadata": {},
     "output_type": "display_data"
    }
   ],
   "source": [
    "#r \"nuget: ClosedXML, 0.95.4\"\n",
    "#r \"nuget: System.Data.Common, 4.3.0\""
   ]
  },
  {
   "cell_type": "code",
   "execution_count": 2,
   "metadata": {
    "vscode": {
     "languageId": "polyglot-notebook"
    }
   },
   "outputs": [],
   "source": [
    "// Install necessary NuGet packages\n",
    "\n",
    "\n",
    "using System.Data;\n",
    "using ClosedXML.Excel;\n",
    "\n",
    "// Create a DataTable with two columns: \"Question\" and \"Answer\"\n",
    "DataTable table = new DataTable();\n",
    "table.Columns.Add(\"Question\", typeof(string));\n",
    "table.Columns.Add(\"Answer\", typeof(string));\n",
    "\n",
    "// Add 30 funny facts about Quebec\n",
    "table.Rows.Add(\"What is Quebec's official animal?\", \"The Snowy Owl.\");\n",
    "table.Rows.Add(\"What is Quebec's most famous dish?\", \"Poutine.\");\n",
    "table.Rows.Add(\"What is the name of Quebec's winter carnival mascot?\", \"Bonhomme Carnaval.\");\n",
    "table.Rows.Add(\"What is the largest city in Quebec?\", \"Montreal.\");\n",
    "table.Rows.Add(\"What is Quebec's official flower?\", \"Blue Flag Iris.\");\n",
    "table.Rows.Add(\"What is the name of Quebec's famous ice hotel?\", \"Hôtel de Glace.\");\n",
    "table.Rows.Add(\"What is Quebec's official motto?\", \"Je me souviens (I remember).\");\n",
    "table.Rows.Add(\"What is the name of Quebec's famous maple syrup festival?\", \"Festival Beauceron de l'Érable.\");\n",
    "table.Rows.Add(\"What is Quebec's official bird?\", \"The Snowy Owl.\");\n",
    "table.Rows.Add(\"What is Quebec's official tree?\", \"Yellow Birch.\");\n",
    "table.Rows.Add(\"What is the name of Quebec's famous summer music festival?\", \"Festival d'été de Québec.\");\n",
    "table.Rows.Add(\"What is the name of Quebec's famous winter sports event?\", \"Quebec Winter Carnival.\");\n",
    "table.Rows.Add(\"What is Quebec's official language?\", \"French.\");\n",
    "table.Rows.Add(\"What is the name of Quebec's famous amusement park?\", \"La Ronde.\");\n",
    "table.Rows.Add(\"What is the name of Quebec's famous historic district?\", \"Old Quebec.\");\n",
    "table.Rows.Add(\"What is the name of Quebec's famous basilica?\", \"Saint Joseph's Oratory.\");\n",
    "table.Rows.Add(\"What is the name of Quebec's famous national park?\", \"Mont-Tremblant National Park.\");\n",
    "table.Rows.Add(\"What is the name of Quebec's famous waterfall?\", \"Montmorency Falls.\");\n",
    "table.Rows.Add(\"What is the name of Quebec's famous island?\", \"Île d'Orléans.\");\n",
    "table.Rows.Add(\"What is the name of Quebec's famous observatory?\", \"Observatoire de la Capitale.\");\n",
    "table.Rows.Add(\"What is the name of Quebec's famous museum?\", \"Musée de la civilisation.\");\n",
    "table.Rows.Add(\"What is the name of Quebec's famous fort?\", \"Citadelle of Quebec.\");\n",
    "table.Rows.Add(\"What is the name of Quebec's famous market?\", \"Jean-Talon Market.\");\n",
    "table.Rows.Add(\"What is the name of Quebec's famous street?\", \"Rue du Petit-Champlain.\");\n",
    "table.Rows.Add(\"What is the name of Quebec's famous castle?\", \"Château Frontenac.\");\n",
    "table.Rows.Add(\"What is the name of Quebec's famous river?\", \"Saint Lawrence River.\");\n",
    "table.Rows.Add(\"What is the name of Quebec's famous bridge?\", \"Pont de Québec.\");\n",
    "table.Rows.Add(\"What is the name of Quebec's famous university?\", \"Université Laval.\");\n",
    "table.Rows.Add(\"What is the name of Quebec's famous theater?\", \"Théâtre Capitole.\");\n",
    "table.Rows.Add(\"What is the name of Quebec's famous garden?\", \"Jardin botanique de Montréal.\");\n",
    "\n",
    "// Create a new Excel workbook and add the DataTable to it\n",
    "using (var workbook = new XLWorkbook())\n",
    "{\n",
    "    var worksheet = workbook.Worksheets.Add(\"Funny Facts about Quebec\");\n",
    "    worksheet.Cell(1, 1).Value = table;\n",
    "    workbook.SaveAs(\"FunnyFactsAboutQuebec.xlsx\");\n",
    "}"
   ]
  }
 ],
 "metadata": {
  "kernelspec": {
   "display_name": ".NET (C#)",
   "language": "C#",
   "name": ".net-csharp"
  },
  "language_info": {
   "name": "python"
  },
  "polyglot_notebook": {
   "kernelInfo": {
    "defaultKernelName": "csharp",
    "items": [
     {
      "aliases": [],
      "name": "csharp"
     }
    ]
   }
  }
 },
 "nbformat": 4,
 "nbformat_minor": 2
}
